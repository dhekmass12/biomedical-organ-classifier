{
 "cells": [
  {
   "cell_type": "code",
   "execution_count": 1,
   "id": "30dcb513",
   "metadata": {},
   "outputs": [
    {
     "data": {
      "text/plain": [
       "array(['liver', 'lung-right', 'kidney-right', 'pancreas', 'lung-left',\n",
       "       'kidney-left', 'bladder', 'spleen', 'heart', 'femur-right',\n",
       "       'femur-left'], dtype=object)"
      ]
     },
     "execution_count": 1,
     "metadata": {},
     "output_type": "execute_result"
    }
   ],
   "source": [
    "import pandas as pd\n",
    "\n",
    "df = pd.read_csv('../train.csv')\n",
    "df[\"class\"].unique()"
   ]
  },
  {
   "cell_type": "code",
   "execution_count": 2,
   "id": "8b55788f",
   "metadata": {},
   "outputs": [
    {
     "data": {
      "text/html": [
       "<div>\n",
       "<style scoped>\n",
       "    .dataframe tbody tr th:only-of-type {\n",
       "        vertical-align: middle;\n",
       "    }\n",
       "\n",
       "    .dataframe tbody tr th {\n",
       "        vertical-align: top;\n",
       "    }\n",
       "\n",
       "    .dataframe thead th {\n",
       "        text-align: right;\n",
       "    }\n",
       "</style>\n",
       "<table border=\"1\" class=\"dataframe\">\n",
       "  <thead>\n",
       "    <tr style=\"text-align: right;\">\n",
       "      <th></th>\n",
       "      <th>id</th>\n",
       "      <th>class</th>\n",
       "    </tr>\n",
       "  </thead>\n",
       "  <tbody>\n",
       "    <tr>\n",
       "      <th>0</th>\n",
       "      <td>a_0.png</td>\n",
       "      <td>liver</td>\n",
       "    </tr>\n",
       "    <tr>\n",
       "      <th>1</th>\n",
       "      <td>a_1.png</td>\n",
       "      <td>lung-right</td>\n",
       "    </tr>\n",
       "    <tr>\n",
       "      <th>2</th>\n",
       "      <td>a_2.png</td>\n",
       "      <td>kidney-right</td>\n",
       "    </tr>\n",
       "    <tr>\n",
       "      <th>3</th>\n",
       "      <td>a_3.png</td>\n",
       "      <td>liver</td>\n",
       "    </tr>\n",
       "    <tr>\n",
       "      <th>4</th>\n",
       "      <td>a_4.png</td>\n",
       "      <td>pancreas</td>\n",
       "    </tr>\n",
       "    <tr>\n",
       "      <th>...</th>\n",
       "      <td>...</td>\n",
       "      <td>...</td>\n",
       "    </tr>\n",
       "    <tr>\n",
       "      <th>61463</th>\n",
       "      <td>s_13927.png</td>\n",
       "      <td>pancreas</td>\n",
       "    </tr>\n",
       "    <tr>\n",
       "      <th>61464</th>\n",
       "      <td>s_13928.png</td>\n",
       "      <td>liver</td>\n",
       "    </tr>\n",
       "    <tr>\n",
       "      <th>61465</th>\n",
       "      <td>s_13929.png</td>\n",
       "      <td>liver</td>\n",
       "    </tr>\n",
       "    <tr>\n",
       "      <th>61466</th>\n",
       "      <td>s_13930.png</td>\n",
       "      <td>pancreas</td>\n",
       "    </tr>\n",
       "    <tr>\n",
       "      <th>61467</th>\n",
       "      <td>s_13931.png</td>\n",
       "      <td>liver</td>\n",
       "    </tr>\n",
       "  </tbody>\n",
       "</table>\n",
       "<p>61468 rows × 2 columns</p>\n",
       "</div>"
      ],
      "text/plain": [
       "                id         class\n",
       "0          a_0.png         liver\n",
       "1          a_1.png    lung-right\n",
       "2          a_2.png  kidney-right\n",
       "3          a_3.png         liver\n",
       "4          a_4.png      pancreas\n",
       "...            ...           ...\n",
       "61463  s_13927.png      pancreas\n",
       "61464  s_13928.png         liver\n",
       "61465  s_13929.png         liver\n",
       "61466  s_13930.png      pancreas\n",
       "61467  s_13931.png         liver\n",
       "\n",
       "[61468 rows x 2 columns]"
      ]
     },
     "execution_count": 2,
     "metadata": {},
     "output_type": "execute_result"
    }
   ],
   "source": [
    "df"
   ]
  },
  {
   "cell_type": "code",
   "execution_count": null,
   "id": "b48c39e2",
   "metadata": {},
   "outputs": [],
   "source": [
    "# Create directories for each class and move files\n",
    "\n",
    "import os\n",
    "from os import listdir\n",
    "from os.path import isfile, join\n",
    "\n",
    "train_dir = \"../train\"\n",
    "\n",
    "for index, row in df.iterrows():\n",
    "    id = row[\"id\"]\n",
    "    if row[\"class\"] == class_name:\n",
    "        os.replace(train_dir+\"\\\\\"+id, train_dir+\"\\\\\"+class_name+\"\\\\\"+id)"
   ]
  }
 ],
 "metadata": {
  "kernelspec": {
   "display_name": "biomedical-organ-classifier",
   "language": "python",
   "name": "python3"
  },
  "language_info": {
   "codemirror_mode": {
    "name": "ipython",
    "version": 3
   },
   "file_extension": ".py",
   "mimetype": "text/x-python",
   "name": "python",
   "nbconvert_exporter": "python",
   "pygments_lexer": "ipython3",
   "version": "3.12.7"
  }
 },
 "nbformat": 4,
 "nbformat_minor": 5
}
